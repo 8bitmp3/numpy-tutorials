{
 "cells": [
  {
   "cell_type": "markdown",
   "metadata": {},
   "source": [
    "# Determining Moore's Law with real data in NumPy\n",
    "\n",
    "## Background\n",
    "\n",
    "Gordon Moore predicted that the rate of semiconductors on a computer chip would double every two years in the decade from 1965 - 1975 [[1](https://en.wikipedia.org/wiki/Moore%27s_law),[2](https://spectrum.ieee.org/computing/hardware/gordon-moore-the-man-whose-name-means-progress)]. Semiconductor manufacuturers were able to keep up with Moore's law until 2015. \n",
    "\n",
    "In this tutorial, we will use NumPy to perform linear regression on semiconductor manufacturing data. We will determine the best-fit constants to describe the exponential growth of transistors on semiconductors compared to Moore's Law.  \n",
    "\n",
    "In this tutorial, we will use the following Python tools:\n",
    "\n",
    "* `np.loadtxt`\n",
    "* `np.polyfit` or `scipy.linalg.lstsq`\n",
    "* `plt.plot`\n",
    "* `np.log` \n",
    "* slicing arrays\n",
    "* boolean slicing\n",
    "* `matplotlib.pyplot.semilogy` \n",
    "* `np.savez` and `np.savetxt`\n",
    "\n",
    "## Building Moore's law as an exponential function\n",
    "\n",
    "Our empirical model will assume that the number of transistors per semiconducter follows an exponential growth,  \n",
    "\n",
    "$log(transistor~count)= f(year) = A\\cdot year+B,$\n",
    "\n",
    "where $A$ and $B$ are fitting constants that will be determined using semiconductor manufacturers' data. \n",
    "\n",
    "These constants for Moore's law are determined by specifying the rate that transistors are add, 2, and giving an initial number of transistors for a given year. \n",
    "\n",
    "Moore's law in our exponential form is stated as follows, \n",
    "\n",
    "$transistor~count= e^{A_M\\cdot year +B_M}.$\n",
    "\n",
    "Where $A_M$ and $B_M$ are constants that double the number of transistors every two years and start at 2250 transistors in 1971,\n",
    "\n",
    "1. $\\frac{transistor\\_count(year +2)}{transistor\\_count(year)} = 2 = \\frac{e^{B_M}e^{A_M year + 2A_M}}{e^{B_M}e^{A_M year}} = e^{2A_M} \\rightarrow A_M = \\log(2)/2$\n",
    "\n",
    "2. $\\log(2250) = \\log(2)/2\\cdot 1971 + B_M \\rightarrow B_M = \\log(2250)-\\log(2)/2\\cdot 1971$\n",
    "\n",
    "so Moore's law stated as an exponential function is\n",
    "\n",
    "$log(transistor~count)= A_M\\cdot year+B_M,$\n",
    "\n",
    "where\n",
    "\n",
    "$A_M=0.3466$\n",
    "\n",
    "$B_M=-675.4$\n",
    "\n",
    "## Fitting historical data to our exponential function\n",
    "\n",
    "First, load our functions for NumPy, SciPy, and Matplotlib"
   ]
  },
  {
   "cell_type": "code",
   "execution_count": 4,
   "metadata": {},
   "outputs": [],
   "source": [
    "import numpy as np\n",
    "import matplotlib.pyplot as plt\n",
    "from scipy.linalg import lstsq"
   ]
  },
  {
   "cell_type": "markdown",
   "metadata": {},
   "source": [
    "### Loading data from a csv\n",
    "\n",
    "Now, we need to load in the historical data for semiconductors per chip. The `transistor_data.csv` was downloaded from the Wikipedia page for [Transistor Count](https://en.wikipedia.org/wiki/Transistor_count#Microprocessors). Before loading a comma-separated value file into a NumPy array, its a good idea to inspect the structure of the file first. Then, locate the columns of interest and save them to a variable, `data`-in this case, and proceed to the next step of data processing. \n",
    "\n",
    "Here, we print out the first 10 rows of `transistor_data.csv`. The columns are \n",
    "\n",
    "|Processor|MOS transistor count|Date of Introduction|Designer|MOSprocess|Area|\n",
    "|---|---|---|---|---|---|\n",
    "|Intel 4004 (4-bit  16-pin)|2250|1971|Intel|\"10,000 nm\"|12 mm²|\n",
    "|...|...|...|...|...|...|"
   ]
  },
  {
   "cell_type": "code",
   "execution_count": 5,
   "metadata": {},
   "outputs": [
    {
     "name": "stdout",
     "output_type": "stream",
     "text": [
      "Processor,MOS transistor count,Date of Introduction,Designer,MOSprocess,Area\n",
      "Intel 4004 (4-bit  16-pin),2250,1971,Intel,\"10,000 nm\",12 mm²\n",
      "Intel 8008 (8-bit  18-pin),3500,1972,Intel,\"10,000 nm\",14 mm²\n",
      "NEC μCOM-4 (4-bit  42-pin),2500,1973,NEC,\"7,500 nm\",?\n",
      "Intel 4040 (4-bit  16-pin),3000,1974,Intel,\"10,000 nm\",12 mm²\n",
      "Motorola 6800 (8-bit  40-pin),4100,1974,Motorola,\"6,000 nm\",16 mm²\n",
      "Intel 8080 (8-bit  40-pin),6000,1974,Intel,\"6,000 nm\",20 mm²\n",
      "TMS 1000 (4-bit  28-pin),8000,1974,Texas Instruments,\"8,000 nm\",11 mm²\n",
      "MOS Technology 6502 (8-bit  40-pin),4528,1975,MOS Technology,\"8,000 nm\",21 mm²\n",
      "Intersil IM6100 (12-bit  40-pin; clone of PDP-8),4000,1975,Intersil,,\n"
     ]
    }
   ],
   "source": [
    "! head transistor_data.csv"
   ]
  },
  {
   "cell_type": "markdown",
   "metadata": {},
   "source": [
    "We don't need the columns that specify __Processor__, __Designer__, __MOSprocess__, or __Area__, so that leaves the second and third columns, __MOS transistor count__ and __Date of Introduction__, respectively.\n",
    "\n",
    "Next, we load these two columns into a NumPy array using `np.loadtxt`. There are extra options to get the data in the desired format:\n",
    "\n",
    "* `delimiter = ','`: specify delimeter as a comma ',' (this is the default behavior)\n",
    "* `usecols = [1,2]`: only import the second and third columns from the csv\n",
    "* `skiprows = 1`: do not use the first row, because its a header row"
   ]
  },
  {
   "cell_type": "code",
   "execution_count": 7,
   "metadata": {},
   "outputs": [],
   "source": [
    "data = np.loadtxt('./transistor_data.csv', \n",
    "                  delimiter=',', \n",
    "                  usecols=[1,2], \n",
    "                  skiprows=1)"
   ]
  },
  {
   "cell_type": "markdown",
   "metadata": {},
   "source": [
    "The entire history of semiconducting is loaded into a NumPy array named `data`. The first column is the __MOS transistor count__ and the second column is the __Date of Introduction__ in a four-digit year. \n",
    "\n",
    "Next, we make our data easier to read and manage by assigning the two columns to variables, `year` and `transistor_count`. Print out the first 10 values to check that we have the saved the data to the correct variables. "
   ]
  },
  {
   "cell_type": "code",
   "execution_count": 9,
   "metadata": {},
   "outputs": [
    {
     "name": "stdout",
     "output_type": "stream",
     "text": [
      "year:\t\t [1971. 1972. 1973. 1974. 1974. 1974. 1974. 1975. 1975. 1975.]\n",
      "trans. cnt:\t [2250. 3500. 2500. 3000. 4100. 6000. 8000. 4528. 4000. 5000.]\n"
     ]
    }
   ],
   "source": [
    "year = data[:, 1] # grab the second column and assign \n",
    "transistor_count = data[:, 0] # grab the first column and assign\n",
    "\n",
    "print('year:\\t\\t',year[:10])\n",
    "print('trans. cnt:\\t',transistor_count[:10])\n"
   ]
  },
  {
   "cell_type": "markdown",
   "metadata": {},
   "source": [
    "Our data is saved to an independent variable, `year`, and dependent variable, `transistor_count`. Transform the independent variable to our log-scale, \n",
    "\n",
    "$y_i = \\log($ `transistor_count[i]` $),$\n",
    "\n",
    "which results in a linear equation, \n",
    "\n",
    "$y_i = A\\cdot year +B.$\n",
    "\n",
    "Now, if we want to know how many more transistors per semiconductor were added every two years, we have the final formula,\n"
   ]
  },
  {
   "cell_type": "code",
   "execution_count": 7,
   "metadata": {},
   "outputs": [],
   "source": [
    "A_M = np.log(2)/2\n",
    "B_M = np.log(transistor_count[0]) - A_M*year[0]\n",
    "transistor_Moores_law = np.exp(B_M)*np.exp(A_M*year)"
   ]
  },
  {
   "cell_type": "markdown",
   "metadata": {},
   "source": [
    "\n",
    "\n",
    "$\\Delta y_i = A \\Delta x_i$ \n",
    "\n",
    "$\\frac{transistor\\_count(year +2)}{transistor\\_count(year)} = xFactor = \\frac{e^{B}e^{A year + 2A}}{e^{B}e^{A year}} = e^{2A}$\n",
    "\n",
    "where increase in number of transistors is $e^{\\Delta y_i},$ number of years is $x_i = \\frac{2~years}{2019-1971},$ and $A$ is the best fit slope on our semilog function. "
   ]
  },
  {
   "cell_type": "code",
   "execution_count": 8,
   "metadata": {},
   "outputs": [
    {
     "name": "stdout",
     "output_type": "stream",
     "text": [
      "Rate of semiconductors added on a chip every 2 years:\n",
      "\tx1.980 semiconductors per chip\n"
     ]
    }
   ],
   "source": [
    "yi = np.log(transistor_count)\n",
    "A, B = np.polyfit(year, yi, 1)\n",
    "\n",
    "print('Rate of semiconductors added on a chip every 2 years:')\n",
    "print('\\tx{:.3f} semiconductors per chip'.format(np.exp(A*2)))"
   ]
  },
  {
   "cell_type": "code",
   "execution_count": 9,
   "metadata": {},
   "outputs": [
    {
     "name": "stdout",
     "output_type": "stream",
     "text": [
      "0.3416320825591656 -666.326406353631\n"
     ]
    },
    {
     "data": {
      "text/plain": [
       "(array([ 3.41632083e-01, -6.66326406e+02]),\n",
       " 222.42348220852344,\n",
       " 2,\n",
       " array([2.67835101e+04, 9.42818399e-02]))"
      ]
     },
     "execution_count": 9,
     "metadata": {},
     "output_type": "execute_result"
    }
   ],
   "source": [
    "Z = np.block([year[:,np.newaxis]**1,year[:,np.newaxis]**0])\n",
    "print(A, B)\n",
    "lstsq(Z,yi)"
   ]
  },
  {
   "cell_type": "code",
   "execution_count": 10,
   "metadata": {},
   "outputs": [
    {
     "name": "stdout",
     "output_type": "stream",
     "text": [
      "1.980331322133242\n"
     ]
    }
   ],
   "source": [
    "A, B = np.polyfit(year,yi,1)\n",
    "print(np.exp(A*2))"
   ]
  },
  {
   "cell_type": "markdown",
   "metadata": {},
   "source": [
    "Based upon our least-squares regression model, the number of semiconductors per chip increased by a factor of 1.98. We have a model that predicts the number of semiconductors each year, now we can compare it to the actual manufacturing reports. \n",
    "\n",
    "We directly compare the number of predicted transistors to the actual number of transistors per microprocessor over the course of manufacturing history. We'll plot the linear regression results and all of the semiconductor numbers of transistors. \n",
    "\n",
    "Here, we use `matplotlib.pyplot.semilogy` to plot the number of transistors on a log-scale and the year on a linear scale. We have defined a few variables to get to a final model\n",
    "\n",
    "$y_i = \\log(transistor\\_count),$\n",
    "\n",
    "$y_i = A \\cdot year + B,$\n",
    "\n",
    "and\n",
    "\n",
    "$log(transistor\\_count) = A\\cdot year + B,$\n",
    "\n",
    "our variables, `transistor_count`, `year`, and `yi` all have the same dimensions, `(179,)`. NumPy arrays need the same dimensions to make a plot. The predicted number of transistors is finally determined \n",
    "\n",
    "$transistor\\_count_{predicted} = e^Be^{A\\cdot year}.$\n",
    "\n"
   ]
  },
  {
   "cell_type": "code",
   "execution_count": 11,
   "metadata": {},
   "outputs": [
    {
     "data": {
      "image/png": "[encoded data removed]",
      "text/plain": [
       "<Figure size 432x288 with 1 Axes>"
      ]
     },
     "metadata": {
      "needs_background": "light"
     },
     "output_type": "display_data"
    }
   ],
   "source": [
    "transistor_count_predicted = np.exp(B)*np.exp(A*year)\n",
    "\n",
    "plt.semilogy(year,transistor_count,'s',label='MOS transistor count')\n",
    "plt.semilogy(year,transistor_count_predicted,label='linear regression')\n",
    "\n",
    "\n",
    "plt.plot(year,transistor_Moores_law,label = 'Moores Law')\n",
    "plt.title('MOS transistor count per microprocessor\\n'+\n",
    "          'every two years \\n'+\n",
    "          'Transistor count was x{:.2f} higher'.format(np.exp(A*2)))\n",
    "plt.xlabel('year introduced')\n",
    "plt.legend(loc='center left', bbox_to_anchor=(1, 0.5));\n",
    "plt.ylabel('# of transistors\\nper microprocessor');"
   ]
  },
  {
   "cell_type": "code",
   "execution_count": 163,
   "metadata": {},
   "outputs": [
    {
     "data": {
      "text/plain": [
       "-675.3778609466276"
      ]
     },
     "execution_count": 163,
     "metadata": {},
     "output_type": "execute_result"
    }
   ],
   "source": [
    "GMB"
   ]
  },
  {
   "cell_type": "markdown",
   "metadata": {},
   "source": [
    "The linear regression captures the increase in the number of transistors per semiconductors each year.  In 2015, semiconductor manufacturers claimed they could not keep up with Moore's law anymore. Our analysis shows that since 1971, the average increase in transistor count was x1.98 every 2 years, but Gordon Moore predicted it would would be x2 every 2 years. \n",
    "\n",
    "Let's look at the year 2017, and compare our linear regression model to Gordon Moore's prediction. First, we need to get all of the transistor counts from the year 2017, we can do this with a Boolean comparator\n",
    "\n",
    "`year == 2017`"
   ]
  },
  {
   "cell_type": "code",
   "execution_count": 160,
   "metadata": {},
   "outputs": [
    {
     "name": "stdout",
     "output_type": "stream",
     "text": [
      "19200000000.0 250000000.0 7050000000.0\n",
      "7555217100.086955\n",
      "18874368000.00118\n"
     ]
    }
   ],
   "source": [
    "transistor_count2017 = transistor_count[year == 2017]\n",
    "print(transistor_count2017.max(),transistor_count2017.min(),transistor_count2017.mean())\n",
    "print(np.exp(b)*np.exp(a*(2017-1971)/(2019-1971)))\n",
    "print(np.exp(GMB)*np.exp(np.log(2)/2*2017))"
   ]
  },
  {
   "cell_type": "markdown",
   "metadata": {},
   "source": [
    "The result is that our model is very close to the mean, but Gordon Moore's prediction is closer to the maximum number of transistors per microprocessor produced in 2017. Even though semiconductor manufacturers thought that the growth would slow, once in 1975 and again in 2015, we are still producing semiconductors every 2 years that double the number of transistors. "
   ]
  },
  {
   "cell_type": "markdown",
   "metadata": {},
   "source": [
    "The last step in the process is to share our findings. We have created new arrays that represent our linear regression model and Gordon Moore's prediction. We started this process by importing a csv file into a NumPy array using `n.loadtxt`, to save our model we will use two approaches\n",
    "\n",
    "1. `np.savez` : to save NumPy arrays that can be loaded in other Python sessions\n",
    "2. `np.savetxt` : to save a csv file with the original data and our predicted data\n",
    "\n",
    "Using `np.savez`, we can save multiple arrays and give them names. The function `np.load` will load the arrays back into the workspace as a dictionary. We'll save a few arrays so the next user will have the year, transistor count, predicted transistor count, and Gordon Moore's predicted count. We'll add one more array that other users can use as a reference for the model, `notes`. "
   ]
  },
  {
   "cell_type": "code",
   "execution_count": 170,
   "metadata": {},
   "outputs": [
    {
     "name": "stdout",
     "output_type": "stream",
     "text": [
      "the arrays in this file are the result of a linear regression model\n",
      "the arrays include\n",
      "year: year of manufacture\n",
      "transistor_count: number of transistors reported by manufacturers in a given year\n",
      "transistor_count_predicted: linear regression model = exp(-666.33)*exp(0.34*year)\n",
      "transistor_Moores_law: Moores law =exp(-675.38)*exp(0.35*year)\n",
      "regression_csts: linear regression constants A and B for log(transistor_count)=A*year+B\n"
     ]
    }
   ],
   "source": [
    "notes = 'the arrays in this file are the result of a linear regression model\\n'\n",
    "notes += 'the arrays include\\nyear: year of manufacture\\n'\n",
    "notes += 'transistor_count: number of transistors reported by manufacturers in a given year\\n'\n",
    "notes += 'transistor_count_predicted: linear regression model = exp({:.2f})*exp({:.2f}*year)\\n'.format(B,A)\n",
    "notes += 'transistor_Moores_law: Moores law =exp({:.2f})*exp({:.2f}*year)\\n'.format(GMB,np.log(2)/2)\n",
    "notes += 'regression_csts: linear regression constants A and B for log(transistor_count)=A*year+B'\n",
    "print(notes)"
   ]
  },
  {
   "cell_type": "code",
   "execution_count": 191,
   "metadata": {},
   "outputs": [],
   "source": [
    "np.savez('./mooreslaw_regression.npz', notes = notes, \n",
    "         year = year, \n",
    "        transistor_count = transistor_count, \n",
    "        transistor_count_predicted = transistor_count_predicted, \n",
    "        transistor_Moores_law = transistor_Moores_law,\n",
    "        regression_csts = np.array([A,B]))"
   ]
  },
  {
   "cell_type": "code",
   "execution_count": 193,
   "metadata": {},
   "outputs": [],
   "source": [
    "results = np.load('./mooreslaw_regression.npz')"
   ]
  },
  {
   "cell_type": "code",
   "execution_count": 195,
   "metadata": {},
   "outputs": [
    {
     "name": "stdout",
     "output_type": "stream",
     "text": [
      "[ 3.41632083e-01 -6.66326406e+02]\n"
     ]
    }
   ],
   "source": [
    "print(results['regression_csts'])"
   ]
  },
  {
   "cell_type": "code",
   "execution_count": 192,
   "metadata": {},
   "outputs": [
    {
     "name": "stdout",
     "output_type": "stream",
     "text": [
      "01_Interacting_with_Python.ipynb.mod  \u001b[0m\u001b[01;34mOnline_conversion\u001b[0m/\n",
      "03_Get_Oscillations.ipynb             \u001b[01;35mout.png\u001b[0m\n",
      "20200324-hangouts.html                \u001b[01;35mparticipation_image.png\u001b[0m\n",
      "20200324-hangouts.md                  participation.md\n",
      "afm_data.csv                          participation.pdf\n",
      "calendar.md                           part_new.pdf\n",
      "\u001b[01;34mCompMech01-Getting-started\u001b[0m/           \u001b[01;34mproject_01\u001b[0m/\n",
      "\u001b[01;34mCompMech02-Analyze-data\u001b[0m/              project.bak.ipynb\n",
      "\u001b[01;34mCompMech03-IVPs\u001b[0m/                      projectile_coords.npz\n",
      "CompMech03-IVPs_project.ipynb         ps.csv\n",
      "\u001b[01;34mCompMech04-LinearAlgebra\u001b[0m/             ps.ods\n",
      "\u001b[01;34mCompMech05-BVPs\u001b[0m/                      ps.xls\n",
      "\u001b[01;34mComputational_Mechanics\u001b[0m/              schedule.md\n",
      "contact.txt                           server_cmd_hist\n",
      "gh_key                                server_cmds\n",
      "git_help.md                           \u001b[01;34msolution_htmls\u001b[0m/\n",
      "git_help.pdf                          steel_price.dat\n",
      "\u001b[01;34mgithub_uconn\u001b[0m/                         stiffness.tex\n",
      "\u001b[01;34mgrades\u001b[0m/                               syllabus.html\n",
      "\u001b[01;34mipynb_work\u001b[0m/                           syllabus.md\n",
      "issues_04                             syllabus.pdf\n",
      "issues_05                             tmp\n",
      "\u001b[01;34mlectures\u001b[0m/                             transistor_data.csv\n",
      "mooreslaw_regression.npz              Untitled1.ipynb\n",
      "mooreslaw-tutorial.ipynb              Untitled.ipynb\n",
      "\u001b[01;34mmos2_data\u001b[0m/\n"
     ]
    }
   ],
   "source": [
    "! ls"
   ]
  },
  {
   "cell_type": "markdown",
   "metadata": {},
   "source": [
    "The benefit of `np.savez` is you can save multiple arrays in with different shapes and types. Here, we saved 4 arrays that are double precision floating point numbers shape = `(179,)`, one array that was text, and one array of double precision floating point numbers shape = `(2,).` This is the preferred method for saving NumPy arrays for use in another analysis. \n",
    "\n",
    "If we want to share data with other programs or view the results in a table, it is better to save the data into a text form. We can save the data using `np.savetxt`. This function is much more limited than `np.savez` because it is creating a table of readable text. You can save multiple 1D arrays, but they need to be the same length. \n",
    "\n",
    "We prepare the data for export by creating a new 2D array whose columns contain the data of interest. \n",
    "\n",
    "We can use the header to describe the columns of the file"
   ]
  },
  {
   "cell_type": "code",
   "execution_count": 12,
   "metadata": {},
   "outputs": [
    {
     "name": "stdout",
     "output_type": "stream",
     "text": [
      "the columns in this file are the result of a linear regression model\n",
      "the columns include\n",
      "year: year of manufacture\n",
      "transistor_count: number of transistors reported by manufacturers in a given year\n",
      "transistor_count_predicted: linear regression model = exp(-666.33)*exp(0.34*year)\n",
      "transistor_Moores_law: Moores law =exp(-675.38)*exp(0.35*year)\n",
      "year:, transistor_count:, transistor_count_predicted:, transistor_Moores_law:\n"
     ]
    }
   ],
   "source": [
    "head = 'the columns in this file are the result of a linear regression model\\n'\n",
    "head += 'the columns include\\nyear: year of manufacture\\n'\n",
    "head += 'transistor_count: number of transistors reported by manufacturers in a given year\\n'\n",
    "head += 'transistor_count_predicted: linear regression model = exp({:.2f})*exp({:.2f}*year)\\n'.format(B,A)\n",
    "head += 'transistor_Moores_law: Moores law =exp({:.2f})*exp({:.2f}*year)\\n'.format(GMB,np.log(2)/2)\n",
    "head += 'year:, transistor_count:, transistor_count_predicted:, transistor_Moores_law:'\n",
    "print(head)"
   ]
  },
  {
   "cell_type": "code",
   "execution_count": 13,
   "metadata": {},
   "outputs": [],
   "source": [
    "output = np.block([year[:,np.newaxis],\n",
    "                  transistor_count[:,np.newaxis],\n",
    "                  transistor_count_predicted[:,np.newaxis],\n",
    "                  transistor_Moores_law[:,np.newaxis]])\n",
    "\n",
    "np.savetxt('mooreslaw_regression.csv', \n",
    "           X = output,\n",
    "           delimiter = ',',\n",
    "          header = head)"
   ]
  },
  {
   "cell_type": "code",
   "execution_count": 14,
   "metadata": {},
   "outputs": [
    {
     "name": "stdout",
     "output_type": "stream",
     "text": [
      "# the columns in this file are the result of a linear regression model\n",
      "# the columns include\n",
      "# year: year of manufacture\n",
      "# transistor_count: number of transistors reported by manufacturers in a given year\n",
      "# transistor_count_predicted: linear regression model = exp(-666.33)*exp(0.34*year)\n",
      "# transistor_Moores_law: Moores law =exp(-675.38)*exp(0.35*year)\n",
      "# year:, transistor_count:, transistor_count_predicted:, transistor_Moores_law:\n",
      "1.971000000000000000e+03,2.250000000000000000e+03,1.130514785642077413e+03,2.249999999999916326e+03\n",
      "1.972000000000000000e+03,3.500000000000000000e+03,1.590908400343847916e+03,3.181980515339620069e+03\n",
      "1.973000000000000000e+03,2.500000000000000000e+03,2.238793840141721375e+03,4.500000000000097316e+03\n"
     ]
    }
   ],
   "source": [
    "! head mooreslaw_regression.csv"
   ]
  },
  {
   "cell_type": "code",
   "execution_count": null,
   "metadata": {},
   "outputs": [],
   "source": []
  }
 ],
 "metadata": {
  "kernelspec": {
   "display_name": "Python 3",
   "language": "python",
   "name": "python3"
  },
  "language_info": {
   "codemirror_mode": {
    "name": "ipython",
    "version": 3
   },
   "file_extension": ".py",
   "mimetype": "text/x-python",
   "name": "python",
   "nbconvert_exporter": "python",
   "pygments_lexer": "ipython3",
   "version": "3.8.3"
  }
 },
 "nbformat": 4,
 "nbformat_minor": 4
}
