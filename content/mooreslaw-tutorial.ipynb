{
 "cells": [
  {
   "cell_type": "markdown",
   "metadata": {},
   "source": [
    "# Determining Moore's Law with real data in NumPy\n",
    "\n",
    "## What you'll do\n",
    "\n",
    "In this tutorial, we will use NumPy to perform linear regression on semiconductor manufacturing data. Gordon Moore predicted that the rate of semiconductors on a computer chip would double every two years in the decade from 1965 - 1975 [[1](https://en.wikipedia.org/wiki/Moore%27s_law),[2](https://spectrum.ieee.org/computing/hardware/gordon-moore-the-man-whose-name-means-progress)]. Semiconductor manufacuturers were able to keep up with Moore's law until 2015. \n",
    "\n",
    "We will determine the best-fit constants to describe the exponential growth of transistors on semiconductors compared to Moore's Law.\n",
    "\n",
    "## What you'll learn\n",
    "\n",
    "- You'll use linear regression to predict exponential growth\n",
    "- You'll learn to load data from a comma separated values (\\*.csv) file\n",
    "- You'll compare exponential growth constants between models\n",
    "- You'll share your analysis as NumPy zipped files (\\*.npz) \n",
    "- You'll share your analysis as a \\*.csv file\n",
    "- You'll assess the amazing progress semiconductor manufacturers have made in the last five decades\n",
    "\n",
    "## What you'll need\n",
    "\n",
    "First, you need to import our necessary libraries:\n",
    "\n",
    "* NumPy\n",
    "* Matplotlib\n",
    "* SciPy linear algebra"
   ]
  },
  {
   "cell_type": "code",
   "execution_count": 36,
   "metadata": {},
   "outputs": [],
   "source": [
    "import numpy as np\n",
    "import matplotlib.pyplot as plt\n",
    "from scipy.linalg import lstsq"
   ]
  },
  {
   "cell_type": "markdown",
   "metadata": {},
   "source": [
    "In this tutorial, we will use the following NumPy and Matplotlib tools:\n",
    "\n",
    "* `np.loadtxt`\n",
    "* `np.polyfit` or `scipy.linalg.lstsq`\n",
    "* `np.log` \n",
    "* `plt.semilogy`\n",
    "* slicing arrays\n",
    "* boolean slicing\n",
    "* `np.savez` and `np.savetxt`\n",
    "\n",
    "In addition to these skills, we are using exponential growth to describe transistors on semiconductor chips. So, you need a little background in doing math with [natural logs](https://en.wikipedia.org/wiki/Natural_logarithm) and [exponentials](https://en.wikipedia.org/wiki/Exponential_function). \n",
    "\n",
    "***\n",
    "\n",
    "## Building Moore's law as an exponential function\n",
    "\n",
    "Our empirical model assumes that the number of transistors per semiconducter follows an exponential growth,  \n",
    "\n",
    "$log(transistor~count)= f(year) = A\\cdot year+B,$\n",
    "\n",
    "where $A$ and $B$ are fitting constants that are determined using semiconductor manufacturers' data. \n",
    "\n",
    "These constants for Moore's law are determined by specifying the rate that transistors are added, 2, and giving an initial number of transistors for a given year. \n",
    "\n",
    "Moore's law in our exponential form is stated as follows, \n",
    "\n",
    "$transistor~count= e^{A_M\\cdot year +B_M}.$\n",
    "\n",
    "Where $A_M$ and $B_M$ are constants that double the number of transistors every two years and start at 2250 transistors in 1971,\n",
    "\n",
    "1. $\\frac{transistor\\_count(year +2)}{transistor\\_count(year)} = 2 = \\frac{e^{B_M}e^{A_M year + 2A_M}}{e^{B_M}e^{A_M year}} = e^{2A_M} \\rightarrow A_M = \\log(2)/2$\n",
    "\n",
    "2. $\\log(2250) = \\log(2)/2\\cdot 1971 + B_M \\rightarrow B_M = \\log(2250)-\\log(2)/2\\cdot 1971$\n",
    "\n",
    "so Moore's law stated as an exponential function is\n",
    "\n",
    "$log(transistor~count)= A_M\\cdot year+B_M,$\n",
    "\n",
    "where\n",
    "\n",
    "$A_M=0.3466$\n",
    "\n",
    "$B_M=-675.4$\n",
    "\n",
    "Since we have a function to represent Moore's law, we can define it as a Python function"
   ]
  },
  {
   "cell_type": "code",
   "execution_count": 7,
   "metadata": {},
   "outputs": [],
   "source": [
    "A_M = np.log(2)/2\n",
    "B_M = np.log(2250) - A_M*1971\n",
    "Moores_law = lambda year: np.exp(B_M)*np.exp(A_M*year)"
   ]
  },
  {
   "cell_type": "markdown",
   "metadata": {},
   "source": [
    "In 1971, there were 2250 transistors on the Intel 4004 chip. We can use `Moores_law` to check how many semiconductors Gordon Moore would expect in 1973. "
   ]
  },
  {
   "cell_type": "code",
   "execution_count": 12,
   "metadata": {},
   "outputs": [
    {
     "name": "stdout",
     "output_type": "stream",
     "text": [
      "In 1973, G. Moore expects 4500 transistors on Intels chips\n",
      "This is x2.00 more transistors than 1971\n"
     ]
    }
   ],
   "source": [
    "ML_1971 = Moores_law(1971)\n",
    "ML_1973 = Moores_law(1973)\n",
    "print('In 1973, G. Moore expects {:.0f} transistors on Intels chips'.format(ML_1973))\n",
    "print('This is x{:.2f} more transistors than 1971'.format(ML_1973/ML_1971))"
   ]
  },
  {
   "cell_type": "markdown",
   "metadata": {},
   "source": [
    "## Loading historical manufacturing data to our workspace\n",
    "\n",
    "Now, we want to make a prediction based upon the historical data for semiconductors per chip. The `transistor_data.csv` was downloaded from the Wikipedia page for [Transistor Count](https://en.wikipedia.org/wiki/Transistor_count#Microprocessors). Before loading a \\*.csv file into a NumPy array, its a good idea to inspect the structure of the file first. Then, locate the columns of interest and save them to a variable. We will save two columns of the file to the array, `data`.\n",
    "\n",
    "Here, we print out the first 10 rows of `transistor_data.csv`. The columns are \n",
    "\n",
    "|Processor|MOS transistor count|Date of Introduction|Designer|MOSprocess|Area|\n",
    "|---|---|---|---|---|---|\n",
    "|Intel 4004 (4-bit  16-pin)|2250|1971|Intel|\"10,000 nm\"|12 mm²|\n",
    "|...|...|...|...|...|...|"
   ]
  },
  {
   "cell_type": "code",
   "execution_count": 13,
   "metadata": {},
   "outputs": [
    {
     "name": "stdout",
     "output_type": "stream",
     "text": [
      "Processor,MOS transistor count,Date of Introduction,Designer,MOSprocess,Area\n",
      "Intel 4004 (4-bit  16-pin),2250,1971,Intel,\"10,000 nm\",12 mm²\n",
      "Intel 8008 (8-bit  18-pin),3500,1972,Intel,\"10,000 nm\",14 mm²\n",
      "NEC μCOM-4 (4-bit  42-pin),2500,1973,NEC,\"7,500 nm\",?\n",
      "Intel 4040 (4-bit  16-pin),3000,1974,Intel,\"10,000 nm\",12 mm²\n",
      "Motorola 6800 (8-bit  40-pin),4100,1974,Motorola,\"6,000 nm\",16 mm²\n",
      "Intel 8080 (8-bit  40-pin),6000,1974,Intel,\"6,000 nm\",20 mm²\n",
      "TMS 1000 (4-bit  28-pin),8000,1974,Texas Instruments,\"8,000 nm\",11 mm²\n",
      "MOS Technology 6502 (8-bit  40-pin),4528,1975,MOS Technology,\"8,000 nm\",21 mm²\n",
      "Intersil IM6100 (12-bit  40-pin; clone of PDP-8),4000,1975,Intersil,,\n"
     ]
    }
   ],
   "source": [
    "! head transistor_data.csv"
   ]
  },
  {
   "cell_type": "markdown",
   "metadata": {},
   "source": [
    "We don't need the columns that specify __Processor__, __Designer__, __MOSprocess__, or __Area__, so that leaves the second and third columns, __MOS transistor count__ and __Date of Introduction__, respectively.\n",
    "\n",
    "Next, we load these two columns into a NumPy array using `np.loadtxt`. There are extra options to get the data in the desired format:\n",
    "\n",
    "* `delimiter = ','`: specify delimeter as a comma ',' (this is the default behavior)\n",
    "* `usecols = [1,2]`: only import the second and third columns from the csv\n",
    "* `skiprows = 1`: do not use the first row, because its a header row"
   ]
  },
  {
   "cell_type": "code",
   "execution_count": 22,
   "metadata": {},
   "outputs": [],
   "source": [
    "data = np.loadtxt('./transistor_data.csv', \n",
    "                  delimiter=',', \n",
    "                  usecols=[1,2], \n",
    "                  skiprows=1)"
   ]
  },
  {
   "cell_type": "markdown",
   "metadata": {},
   "source": [
    "The entire history of semiconducting is loaded into a NumPy array named `data`. The first column is the __MOS transistor count__ and the second column is the __Date of Introduction__ in a four-digit year. \n",
    "\n",
    "Next, we make our data easier to read and manage by assigning the two columns to variables, `year` and `transistor_count`. Print out the first 10 values to check that we have the saved the data to the correct variables. "
   ]
  },
  {
   "cell_type": "code",
   "execution_count": 23,
   "metadata": {},
   "outputs": [
    {
     "name": "stdout",
     "output_type": "stream",
     "text": [
      "year:\t\t [1971. 1972. 1973. 1974. 1974. 1974. 1974. 1975. 1975. 1975.]\n",
      "trans. cnt:\t [2250. 3500. 2500. 3000. 4100. 6000. 8000. 4528. 4000. 5000.]\n"
     ]
    }
   ],
   "source": [
    "year = data[:, 1] # grab the second column and assign \n",
    "transistor_count = data[:, 0] # grab the first column and assign\n",
    "\n",
    "print('year:\\t\\t',year[:10])\n",
    "print('trans. cnt:\\t',transistor_count[:10])\n"
   ]
  },
  {
   "cell_type": "markdown",
   "metadata": {},
   "source": [
    "We are creating a function that based upon a given year, it will give us the predicted transistor count. Our historical data is saved to the _independent variable_, `year`, and the _dependent variable_, `transistor_count`. Transform the independent variable to our log-scale, \n",
    "\n",
    "$y_i = \\log($ `transistor_count[i]` $),$\n",
    "\n",
    "resulting in a linear equation, \n",
    "\n",
    "$y_i = A\\cdot year +B.$\n",
    "\n",
    "\n"
   ]
  },
  {
   "cell_type": "code",
   "execution_count": 51,
   "metadata": {},
   "outputs": [],
   "source": [
    "yi = np.log(transistor_count)"
   ]
  },
  {
   "cell_type": "markdown",
   "metadata": {},
   "source": [
    "## Comparing a few different approaches\n",
    "### _I plan to remove the different solutions and link to other options_\n",
    "\n",
    "1. `Polynomial.fit`\n",
    "2. `polyfit`\n",
    "3. `lstsq`\n"
   ]
  },
  {
   "cell_type": "code",
   "execution_count": 52,
   "metadata": {},
   "outputs": [
    {
     "name": "stdout",
     "output_type": "stream",
     "text": [
      "133 µs ± 1.89 µs per loop (mean ± std. dev. of 7 runs, 10000 loops each)\n"
     ]
    }
   ],
   "source": [
    "%%timeit\n",
    "Y = np.polynomial.polynomial.Polynomial.fit(x=year, y=yi, deg=1)"
   ]
  },
  {
   "cell_type": "code",
   "execution_count": 55,
   "metadata": {},
   "outputs": [
    {
     "name": "stdout",
     "output_type": "stream",
     "text": [
      "105 µs ± 15.9 µs per loop (mean ± std. dev. of 7 runs, 10000 loops each)\n"
     ]
    }
   ],
   "source": [
    "%%timeit\n",
    "A, B = np.polyfit(year,yi,1)"
   ]
  },
  {
   "cell_type": "code",
   "execution_count": 34,
   "metadata": {},
   "outputs": [
    {
     "name": "stdout",
     "output_type": "stream",
     "text": [
      "[-6.66326406e+02  3.41632083e-01]\n",
      "[1950.42105344]\n"
     ]
    }
   ],
   "source": [
    "print(Y.convert().coef)\n",
    "print(Y.roots())"
   ]
  },
  {
   "cell_type": "code",
   "execution_count": 80,
   "metadata": {},
   "outputs": [
    {
     "data": {
      "text/plain": [
       "array([ 3.41632083e-01, -6.66326406e+02])"
      ]
     },
     "execution_count": 80,
     "metadata": {},
     "output_type": "execute_result"
    }
   ],
   "source": [
    "Z = np.block([year[:,np.newaxis]**1,year[:,np.newaxis]**0])\n",
    "AB = lstsq(Z,yi)\n",
    "AB[0]"
   ]
  },
  {
   "cell_type": "code",
   "execution_count": 76,
   "metadata": {},
   "outputs": [
    {
     "name": "stdout",
     "output_type": "stream",
     "text": [
      "41.4 µs ± 639 ns per loop (mean ± std. dev. of 7 runs, 10000 loops each)\n"
     ]
    }
   ],
   "source": [
    "%%timeit\n",
    "lstsq(Z,yi)"
   ]
  },
  {
   "cell_type": "code",
   "execution_count": 77,
   "metadata": {},
   "outputs": [
    {
     "name": "stdout",
     "output_type": "stream",
     "text": [
      "26 µs ± 2.04 µs per loop (mean ± std. dev. of 7 runs, 10000 loops each)\n"
     ]
    }
   ],
   "source": [
    "%%timeit\n",
    "AB = np.linalg.lstsq(Z,yi,rcond=None)"
   ]
  },
  {
   "cell_type": "markdown",
   "metadata": {},
   "source": [
    "We want to know how many more transistors per semiconductor were added every two years, we have the final formula,\n",
    "\n",
    "$\\frac{transistor\\_count(year +2)}{transistor\\_count(year)} = xFactor = \\frac{e^{B}e^{A( year + 2)}}{e^{B}e^{A year}} = e^{2A}$\n",
    "\n",
    "where increase in number of transistors is $xFactor,$ number of years is and $A$ is the best fit slope on our semilog function. "
   ]
  },
  {
   "cell_type": "code",
   "execution_count": 81,
   "metadata": {},
   "outputs": [
    {
     "name": "stdout",
     "output_type": "stream",
     "text": [
      "Rate of semiconductors added on a chip every 2 years:\n",
      "\tx1.9803 semiconductors per chip\n"
     ]
    }
   ],
   "source": [
    "A = AB[0][0]\n",
    "B = AB[0][1]\n",
    "print('Rate of semiconductors added on a chip every 2 years:')\n",
    "print('\\tx{:.4f} semiconductors per chip'.format(np.exp(A*2)))"
   ]
  },
  {
   "cell_type": "markdown",
   "metadata": {},
   "source": [
    "Based upon our least-squares regression model, the number of semiconductors per chip increased by a factor of 1.98 every two years. We have a model that predicts the number of semiconductors each year, now we can compare it to the actual manufacturing reports. \n",
    "\n",
    "We directly compare the number of predicted transistors to the actual number of transistors per microprocessor over the course of manufacturing history. We'll plot the linear regression results and all of the semiconductor numbers of transistors. \n",
    "\n",
    "Here, we use `matplotlib.pyplot.semilogy` to plot the number of transistors on a log-scale and the year on a linear scale. We have defined a few variables to get to a final model\n",
    "\n",
    "$y_i = \\log(transistor\\_count),$\n",
    "\n",
    "$y_i = A \\cdot year + B,$\n",
    "\n",
    "and\n",
    "\n",
    "$log(transistor\\_count) = A\\cdot year + B,$\n",
    "\n",
    "our variables, `transistor_count`, `year`, and `yi` all have the same dimensions, `(179,)`. NumPy arrays need the same dimensions to make a plot. The predicted number of transistors is finally determined \n",
    "\n",
    "$transistor\\_count_{predicted} = e^Be^{A\\cdot year}.$\n",
    "\n"
   ]
  },
  {
   "cell_type": "code",
   "execution_count": 85,
   "metadata": {},
   "outputs": [
    {
     "data": {
      "image/png": "[encoded data removed]",
      "text/plain": [
       "<Figure size 432x288 with 1 Axes>"
      ]
     },
     "metadata": {},
     "output_type": "display_data"
    }
   ],
   "source": [
    "transistor_count_predicted = np.exp(B)*np.exp(A*year)\n",
    "transistor_Moores_law = Moores_law(year)\n",
    "plt.style.use('fivethirtyeight')\n",
    "plt.semilogy(year, transistor_count,'s',label = 'MOS transistor count')\n",
    "plt.semilogy(year, transistor_count_predicted, label = 'linear regression')\n",
    "\n",
    "\n",
    "plt.plot(year, transistor_Moores_law, label = 'Moores Law')\n",
    "plt.title('MOS transistor count per microprocessor\\n'+\n",
    "          'every two years \\n'+\n",
    "          'Transistor count was x{:.2f} higher'.format(np.exp(A*2)))\n",
    "plt.xlabel('year introduced')\n",
    "plt.legend(loc = 'center left', bbox_to_anchor = (1, 0.5));\n",
    "plt.ylabel('# of transistors\\nper microprocessor');"
   ]
  },
  {
   "cell_type": "markdown",
   "metadata": {},
   "source": [
    "The linear regression captures the increase in the number of transistors per semiconductors each year.  In 2015, semiconductor manufacturers claimed they could not keep up with Moore's law anymore. Our analysis shows that since 1971, the average increase in transistor count was x1.98 every 2 years, but Gordon Moore predicted it would would be x2 every 2 years. That is a pretty amazing prediction. \n",
    "\n",
    "Let's look at just the year 2017, and compare our linear regression model to Gordon Moore's prediction. First, we need to get all of the transistor counts from the year 2017, we can do this with a Boolean comparator:\n",
    "\n",
    "`year == 2017`"
   ]
  },
  {
   "cell_type": "code",
   "execution_count": 103,
   "metadata": {},
   "outputs": [
    {
     "name": "stdout",
     "output_type": "stream",
     "text": [
      "19200000000.0 250000000.0 7050000000.0\n"
     ]
    },
    {
     "data": {
      "text/plain": [
       "<matplotlib.legend.Legend at 0x7f6914ec8eb0>"
      ]
     },
     "execution_count": 103,
     "metadata": {},
     "output_type": "execute_result"
    },
    {
     "data": {
      "image/png": "[encoded data removed]",
      "text/plain": [
       "<Figure size 432x288 with 1 Axes>"
      ]
     },
     "metadata": {},
     "output_type": "display_data"
    }
   ],
   "source": [
    "transistor_count2017 = transistor_count[year == 2017]\n",
    "print(transistor_count2017.max(),transistor_count2017.min(),transistor_count2017.mean())\n",
    "our_model2017 = np.exp(B)*np.exp(A*2017)\n",
    "Moore_Model2017 = Moores_law(2017)\n",
    "\n",
    "plt.boxplot(transistor_count2017,labels = ['2017'])\n",
    "plt.plot([0.5,1.5],our_model2017*np.ones(2),label = 'Our prediction')\n",
    "plt.plot([0.5,1.5],Moore_Model2017*np.ones(2), label = 'Moores law')\n",
    "plt.legend()"
   ]
  },
  {
   "cell_type": "markdown",
   "metadata": {},
   "source": [
    "The result is that our model is very close to the mean, but Gordon Moore's prediction is closer to the maximum number of transistors per microprocessor produced in 2017. Even though semiconductor manufacturers thought that the growth would slow, once in 1975 and again in 2015, we are still producing semiconductors every 2 years that double the number of transistors. \n",
    "\n",
    "The linear regression model will do a much better job at predicting the average than extreme values because it satisfies the condition that $\\sum |y_i - Ayear[i]+B|^2$ is minimized. "
   ]
  },
  {
   "cell_type": "markdown",
   "metadata": {},
   "source": [
    "## Sharing our results as zipped arrays and a csv\n",
    "\n",
    "The last step in the process is to share our findings. We have created new arrays that represent our linear regression model and Gordon Moore's prediction. We started this process by importing a csv file into a NumPy array using `np.loadtxt`, to save our model we will use two approaches\n",
    "\n",
    "1. `np.savez` : to save NumPy arrays that can be loaded in other Python sessions\n",
    "2. `np.savetxt` : to save a csv file with the original data and our predicted data\n",
    "\n",
    "### Zipping the arrays into a file\n",
    "Using `np.savez`, we can save multiple arrays and give them names. The function `np.load` will load the arrays back into the workspace as a dictionary. We'll save a few arrays so the next user will have the year, transistor count, predicted transistor count, and Gordon Moore's predicted count. We'll add one more array that other users can use as a reference for the model, `notes`. "
   ]
  },
  {
   "cell_type": "code",
   "execution_count": 108,
   "metadata": {},
   "outputs": [
    {
     "name": "stdout",
     "output_type": "stream",
     "text": [
      "the arrays in this file are the result of a linear regression model\n",
      "the arrays include\n",
      "year: year of manufacture\n",
      "transistor_count: number of transistors reported by manufacturers in a given year\n",
      "transistor_count_predicted: linear regression model = exp(-666.33)*exp(0.34*year)\n",
      "transistor_Moores_law: Moores law =exp(-675.38)*exp(0.35*year)\n",
      "regression_csts: linear regression constants A and B for log(transistor_count)=A*year+B\n"
     ]
    }
   ],
   "source": [
    "notes = 'the arrays in this file are the result of a linear regression model\\n'\n",
    "notes += 'the arrays include\\nyear: year of manufacture\\n'\n",
    "notes += 'transistor_count: number of transistors reported by manufacturers in a given year\\n'\n",
    "notes += 'transistor_count_predicted: linear regression model = exp({:.2f})*exp({:.2f}*year)\\n'.format(B,A)\n",
    "notes += 'transistor_Moores_law: Moores law =exp({:.2f})*exp({:.2f}*year)\\n'.format(B_M,A_M)\n",
    "notes += 'regression_csts: linear regression constants A and B for log(transistor_count)=A*year+B'\n",
    "print(notes)"
   ]
  },
  {
   "cell_type": "code",
   "execution_count": 118,
   "metadata": {},
   "outputs": [],
   "source": [
    "np.savez('./mooreslaw_regression.npz', notes = notes, \n",
    "         year = year, \n",
    "        transistor_count = transistor_count, \n",
    "        transistor_count_predicted = transistor_count_predicted, \n",
    "        transistor_Moores_law = transistor_Moores_law,\n",
    "        regression_csts = AB[0])"
   ]
  },
  {
   "cell_type": "code",
   "execution_count": 119,
   "metadata": {},
   "outputs": [
    {
     "data": {
      "text/plain": [
       "(array([ 3.41632083e-01, -6.66326406e+02]),\n",
       " 222.42348220852344,\n",
       " 2,\n",
       " array([2.67835101e+04, 9.42818399e-02]))"
      ]
     },
     "execution_count": 119,
     "metadata": {},
     "output_type": "execute_result"
    }
   ],
   "source": [
    "AB"
   ]
  },
  {
   "cell_type": "code",
   "execution_count": 120,
   "metadata": {},
   "outputs": [],
   "source": [
    "results = np.load('./mooreslaw_regression.npz')"
   ]
  },
  {
   "cell_type": "code",
   "execution_count": 124,
   "metadata": {},
   "outputs": [
    {
     "name": "stdout",
     "output_type": "stream",
     "text": [
      "-666.3264063536235\n"
     ]
    }
   ],
   "source": [
    "print(results['regression_csts'][1])"
   ]
  },
  {
   "cell_type": "code",
   "execution_count": 125,
   "metadata": {},
   "outputs": [
    {
     "name": "stdout",
     "output_type": "stream",
     "text": [
      "cs231_tutorial.ipynb      mooreslaw-tutorial.ipynb  tutorial-svd.ipynb\n",
      "mooreslaw_regression.npz  transistor_data.csv\n"
     ]
    }
   ],
   "source": [
    "! ls"
   ]
  },
  {
   "cell_type": "markdown",
   "metadata": {},
   "source": [
    "The benefit of `np.savez` is you can save multiple arrays in with different shapes and types. Here, we saved 4 arrays that are double precision floating point numbers shape = `(179,)`, one array that was text, and one array of double precision floating point numbers shape = `(2,).` This is the preferred method for saving NumPy arrays for use in another analysis. \n",
    "\n",
    "### Creating our own comma separated value file\n",
    "\n",
    "If we want to share data with other programs or view the results in a table, it is better to save the data into a text form. We can save the data using `np.savetxt`. This function is much more limited than `np.savez` because it is creating a table of readable text. You can save multiple 1D arrays, but they need to be the same length. \n",
    "\n",
    "We prepare the data for export by creating a new 2D array whose columns contain the data of interest. \n",
    "\n",
    "We can use the `header` option to describe the data and the columns of the file. Here, we define another text string that contains our file information as `head`."
   ]
  },
  {
   "cell_type": "code",
   "execution_count": 130,
   "metadata": {},
   "outputs": [
    {
     "name": "stdout",
     "output_type": "stream",
     "text": [
      "the columns in this file are the result of a linear regression model\n",
      "the columns include\n",
      "year: year of manufacture\n",
      "transistor_count: number of transistors reported by manufacturers in a given year\n",
      "transistor_count_predicted: linear regression model = exp(-666.33)*exp(0.34*year)\n",
      "transistor_Moores_law: Moores law =exp(-675.38)*exp(0.35*year)\n",
      "year:, transistor_count:, transistor_count_predicted:, transistor_Moores_law:\n"
     ]
    }
   ],
   "source": [
    "head = 'the columns in this file are the result of a linear regression model\\n'\n",
    "head += 'the columns include\\nyear: year of manufacture\\n'\n",
    "head += 'transistor_count: number of transistors reported by manufacturers in a given year\\n'\n",
    "head += 'transistor_count_predicted: linear regression model = exp({:.2f})*exp({:.2f}*year)\\n'.format(B,A)\n",
    "head += 'transistor_Moores_law: Moores law =exp({:.2f})*exp({:.2f}*year)\\n'.format(B_M,A_M)\n",
    "head += 'year:, transistor_count:, transistor_count_predicted:, transistor_Moores_law:'\n",
    "print(head)"
   ]
  },
  {
   "cell_type": "markdown",
   "metadata": {},
   "source": [
    "In order to export columns of data in our csv file, we have to build a single 2D array. Tabular data is inherently two dimensional, so we have to organize our data to fit this medium. \n",
    "\n",
    "Next, we create an output array that has `year`, `transistor_count`, `transistor_count_predicted`, and `transistor_Moores_law`, the first through fourth columns, respectively. We put the calculated constants in the header since they do not fit the `(179,)` shape. The `np.block` function appends arrays together to create a new, larger array. The `np.newaxis` function ensures that each 1D array is treated as a column by giving it a second dimension of length one e.g. \n",
    "```python\n",
    ">>> year.shape\n",
    "(179,)\n",
    ">>> year[:,np.newaxis].shape\n",
    "(179,1)\n",
    "```"
   ]
  },
  {
   "cell_type": "code",
   "execution_count": 131,
   "metadata": {},
   "outputs": [],
   "source": [
    "output = np.block([year[:,np.newaxis],\n",
    "                  transistor_count[:,np.newaxis],\n",
    "                  transistor_count_predicted[:,np.newaxis],\n",
    "                  transistor_Moores_law[:,np.newaxis]])"
   ]
  },
  {
   "cell_type": "markdown",
   "metadata": {},
   "source": [
    "Creating the `mooreslaw_regression.csv` with `np.savetxt`, we use a few options to create the file in our desired format: \n",
    "* `X = output` : use our `output` block to write the data into the file\n",
    "* `delimiter = ','` : use commas to separate columns in the file\n",
    "* `header = head` : use the header `head` that we defined before"
   ]
  },
  {
   "cell_type": "code",
   "execution_count": 132,
   "metadata": {},
   "outputs": [],
   "source": [
    "np.savetxt('mooreslaw_regression.csv', \n",
    "           X = output,\n",
    "           delimiter = ',',\n",
    "          header = head)"
   ]
  },
  {
   "cell_type": "code",
   "execution_count": 133,
   "metadata": {},
   "outputs": [
    {
     "name": "stdout",
     "output_type": "stream",
     "text": [
      "# the columns in this file are the result of a linear regression model\n",
      "# the columns include\n",
      "# year: year of manufacture\n",
      "# transistor_count: number of transistors reported by manufacturers in a given year\n",
      "# transistor_count_predicted: linear regression model = exp(-666.33)*exp(0.34*year)\n",
      "# transistor_Moores_law: Moores law =exp(-675.38)*exp(0.35*year)\n",
      "# year:, transistor_count:, transistor_count_predicted:, transistor_Moores_law:\n",
      "1.971000000000000000e+03,2.250000000000000000e+03,1.130514785642591505e+03,2.249999999999916326e+03\n",
      "1.972000000000000000e+03,3.500000000000000000e+03,1.590908400344571646e+03,3.181980515339620069e+03\n",
      "1.973000000000000000e+03,2.500000000000000000e+03,2.238793840142739100e+03,4.500000000000097316e+03\n"
     ]
    }
   ],
   "source": [
    "! head mooreslaw_regression.csv"
   ]
  }
 ],
 "metadata": {
  "kernelspec": {
   "display_name": "Python 3",
   "language": "python",
   "name": "python3"
  },
  "language_info": {
   "codemirror_mode": {
    "name": "ipython",
    "version": 3
   },
   "file_extension": ".py",
   "mimetype": "text/x-python",
   "name": "python",
   "nbconvert_exporter": "python",
   "pygments_lexer": "ipython3",
   "version": "3.8.3"
  }
 },
 "nbformat": 4,
 "nbformat_minor": 4
}
